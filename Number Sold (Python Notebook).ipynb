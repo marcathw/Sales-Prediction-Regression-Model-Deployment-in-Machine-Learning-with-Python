{
 "cells": [
  {
   "cell_type": "markdown",
   "id": "a3ddc309-687e-4d0d-ae8f-a6d15864c9f4",
   "metadata": {},
   "source": [
    "#### Import and Explore Train and Test Data"
   ]
  },
  {
   "cell_type": "code",
   "execution_count": 11,
   "id": "2c7eda4c-d051-4849-b8b8-9c963d7495bd",
   "metadata": {},
   "outputs": [
    {
     "name": "stdout",
     "output_type": "stream",
     "text": [
      "Libraries Imported\n"
     ]
    }
   ],
   "source": [
    "import pandas as pd\n",
    "import numpy as np\n",
    "print(\"Libraries Imported\")"
   ]
  },
  {
   "cell_type": "code",
   "execution_count": 12,
   "id": "d8ef2212-6b11-48c1-b4b4-a1285fb49f64",
   "metadata": {},
   "outputs": [
    {
     "name": "stdout",
     "output_type": "stream",
     "text": [
      "Train Data:\n"
     ]
    },
    {
     "data": {
      "text/html": [
       "<div>\n",
       "<style scoped>\n",
       "    .dataframe tbody tr th:only-of-type {\n",
       "        vertical-align: middle;\n",
       "    }\n",
       "\n",
       "    .dataframe tbody tr th {\n",
       "        vertical-align: top;\n",
       "    }\n",
       "\n",
       "    .dataframe thead th {\n",
       "        text-align: right;\n",
       "    }\n",
       "</style>\n",
       "<table border=\"1\" class=\"dataframe\">\n",
       "  <thead>\n",
       "    <tr style=\"text-align: right;\">\n",
       "      <th></th>\n",
       "      <th>Date</th>\n",
       "      <th>store</th>\n",
       "      <th>product</th>\n",
       "      <th>number_sold</th>\n",
       "    </tr>\n",
       "  </thead>\n",
       "  <tbody>\n",
       "    <tr>\n",
       "      <th>0</th>\n",
       "      <td>2010-01-01</td>\n",
       "      <td>0</td>\n",
       "      <td>0</td>\n",
       "      <td>801</td>\n",
       "    </tr>\n",
       "    <tr>\n",
       "      <th>1</th>\n",
       "      <td>2010-01-02</td>\n",
       "      <td>0</td>\n",
       "      <td>0</td>\n",
       "      <td>810</td>\n",
       "    </tr>\n",
       "    <tr>\n",
       "      <th>2</th>\n",
       "      <td>2010-01-03</td>\n",
       "      <td>0</td>\n",
       "      <td>0</td>\n",
       "      <td>818</td>\n",
       "    </tr>\n",
       "    <tr>\n",
       "      <th>3</th>\n",
       "      <td>2010-01-04</td>\n",
       "      <td>0</td>\n",
       "      <td>0</td>\n",
       "      <td>796</td>\n",
       "    </tr>\n",
       "    <tr>\n",
       "      <th>4</th>\n",
       "      <td>2010-01-05</td>\n",
       "      <td>0</td>\n",
       "      <td>0</td>\n",
       "      <td>808</td>\n",
       "    </tr>\n",
       "  </tbody>\n",
       "</table>\n",
       "</div>"
      ],
      "text/plain": [
       "         Date  store  product  number_sold\n",
       "0  2010-01-01      0        0          801\n",
       "1  2010-01-02      0        0          810\n",
       "2  2010-01-03      0        0          818\n",
       "3  2010-01-04      0        0          796\n",
       "4  2010-01-05      0        0          808"
      ]
     },
     "execution_count": 12,
     "metadata": {},
     "output_type": "execute_result"
    }
   ],
   "source": [
    "train = pd.read_csv(\"train.csv\")\n",
    "print(\"Train Data:\")\n",
    "train.head()"
   ]
  },
  {
   "cell_type": "code",
   "execution_count": 13,
   "id": "beedd29e-7ca0-4468-8d34-d15feb902f28",
   "metadata": {},
   "outputs": [
    {
     "name": "stdout",
     "output_type": "stream",
     "text": [
      "<class 'pandas.core.frame.DataFrame'>\n",
      "RangeIndex: 230090 entries, 0 to 230089\n",
      "Data columns (total 4 columns):\n",
      " #   Column       Non-Null Count   Dtype \n",
      "---  ------       --------------   ----- \n",
      " 0   Date         230090 non-null  object\n",
      " 1   store        230090 non-null  int64 \n",
      " 2   product      230090 non-null  int64 \n",
      " 3   number_sold  230090 non-null  int64 \n",
      "dtypes: int64(3), object(1)\n",
      "memory usage: 7.0+ MB\n"
     ]
    }
   ],
   "source": [
    "train.info()"
   ]
  },
  {
   "cell_type": "code",
   "execution_count": 14,
   "id": "95676fe9-ac45-4447-9b01-533998b256c8",
   "metadata": {},
   "outputs": [
    {
     "data": {
      "text/html": [
       "<div>\n",
       "<style scoped>\n",
       "    .dataframe tbody tr th:only-of-type {\n",
       "        vertical-align: middle;\n",
       "    }\n",
       "\n",
       "    .dataframe tbody tr th {\n",
       "        vertical-align: top;\n",
       "    }\n",
       "\n",
       "    .dataframe thead th {\n",
       "        text-align: right;\n",
       "    }\n",
       "</style>\n",
       "<table border=\"1\" class=\"dataframe\">\n",
       "  <thead>\n",
       "    <tr style=\"text-align: right;\">\n",
       "      <th></th>\n",
       "      <th>store</th>\n",
       "      <th>product</th>\n",
       "      <th>number_sold</th>\n",
       "    </tr>\n",
       "  </thead>\n",
       "  <tbody>\n",
       "    <tr>\n",
       "      <th>count</th>\n",
       "      <td>230090.000000</td>\n",
       "      <td>230090.000000</td>\n",
       "      <td>230090.000000</td>\n",
       "    </tr>\n",
       "    <tr>\n",
       "      <th>mean</th>\n",
       "      <td>3.000000</td>\n",
       "      <td>4.500000</td>\n",
       "      <td>780.926107</td>\n",
       "    </tr>\n",
       "    <tr>\n",
       "      <th>std</th>\n",
       "      <td>2.000004</td>\n",
       "      <td>2.872288</td>\n",
       "      <td>204.096737</td>\n",
       "    </tr>\n",
       "    <tr>\n",
       "      <th>min</th>\n",
       "      <td>0.000000</td>\n",
       "      <td>0.000000</td>\n",
       "      <td>238.000000</td>\n",
       "    </tr>\n",
       "    <tr>\n",
       "      <th>25%</th>\n",
       "      <td>1.000000</td>\n",
       "      <td>2.000000</td>\n",
       "      <td>722.000000</td>\n",
       "    </tr>\n",
       "    <tr>\n",
       "      <th>50%</th>\n",
       "      <td>3.000000</td>\n",
       "      <td>4.500000</td>\n",
       "      <td>835.000000</td>\n",
       "    </tr>\n",
       "    <tr>\n",
       "      <th>75%</th>\n",
       "      <td>5.000000</td>\n",
       "      <td>7.000000</td>\n",
       "      <td>914.000000</td>\n",
       "    </tr>\n",
       "    <tr>\n",
       "      <th>max</th>\n",
       "      <td>6.000000</td>\n",
       "      <td>9.000000</td>\n",
       "      <td>1205.000000</td>\n",
       "    </tr>\n",
       "  </tbody>\n",
       "</table>\n",
       "</div>"
      ],
      "text/plain": [
       "               store        product    number_sold\n",
       "count  230090.000000  230090.000000  230090.000000\n",
       "mean        3.000000       4.500000     780.926107\n",
       "std         2.000004       2.872288     204.096737\n",
       "min         0.000000       0.000000     238.000000\n",
       "25%         1.000000       2.000000     722.000000\n",
       "50%         3.000000       4.500000     835.000000\n",
       "75%         5.000000       7.000000     914.000000\n",
       "max         6.000000       9.000000    1205.000000"
      ]
     },
     "execution_count": 14,
     "metadata": {},
     "output_type": "execute_result"
    }
   ],
   "source": [
    "train.describe()"
   ]
  },
  {
   "cell_type": "code",
   "execution_count": 15,
   "id": "eb763ef9-9fe7-445f-9974-95bf35e37ce9",
   "metadata": {},
   "outputs": [
    {
     "name": "stdout",
     "output_type": "stream",
     "text": [
      "Test Data:\n"
     ]
    },
    {
     "data": {
      "text/html": [
       "<div>\n",
       "<style scoped>\n",
       "    .dataframe tbody tr th:only-of-type {\n",
       "        vertical-align: middle;\n",
       "    }\n",
       "\n",
       "    .dataframe tbody tr th {\n",
       "        vertical-align: top;\n",
       "    }\n",
       "\n",
       "    .dataframe thead th {\n",
       "        text-align: right;\n",
       "    }\n",
       "</style>\n",
       "<table border=\"1\" class=\"dataframe\">\n",
       "  <thead>\n",
       "    <tr style=\"text-align: right;\">\n",
       "      <th></th>\n",
       "      <th>Date</th>\n",
       "      <th>store</th>\n",
       "      <th>product</th>\n",
       "      <th>number_sold</th>\n",
       "    </tr>\n",
       "  </thead>\n",
       "  <tbody>\n",
       "    <tr>\n",
       "      <th>0</th>\n",
       "      <td>2019-01-01</td>\n",
       "      <td>0</td>\n",
       "      <td>0</td>\n",
       "      <td>845</td>\n",
       "    </tr>\n",
       "    <tr>\n",
       "      <th>1</th>\n",
       "      <td>2019-01-02</td>\n",
       "      <td>0</td>\n",
       "      <td>0</td>\n",
       "      <td>851</td>\n",
       "    </tr>\n",
       "    <tr>\n",
       "      <th>2</th>\n",
       "      <td>2019-01-03</td>\n",
       "      <td>0</td>\n",
       "      <td>0</td>\n",
       "      <td>840</td>\n",
       "    </tr>\n",
       "    <tr>\n",
       "      <th>3</th>\n",
       "      <td>2019-01-04</td>\n",
       "      <td>0</td>\n",
       "      <td>0</td>\n",
       "      <td>842</td>\n",
       "    </tr>\n",
       "    <tr>\n",
       "      <th>4</th>\n",
       "      <td>2019-01-05</td>\n",
       "      <td>0</td>\n",
       "      <td>0</td>\n",
       "      <td>845</td>\n",
       "    </tr>\n",
       "  </tbody>\n",
       "</table>\n",
       "</div>"
      ],
      "text/plain": [
       "         Date  store  product  number_sold\n",
       "0  2019-01-01      0        0          845\n",
       "1  2019-01-02      0        0          851\n",
       "2  2019-01-03      0        0          840\n",
       "3  2019-01-04      0        0          842\n",
       "4  2019-01-05      0        0          845"
      ]
     },
     "execution_count": 15,
     "metadata": {},
     "output_type": "execute_result"
    }
   ],
   "source": [
    "test = pd.read_csv(\"test.csv\")\n",
    "print(\"Test Data:\")\n",
    "test.head()"
   ]
  },
  {
   "cell_type": "code",
   "execution_count": 16,
   "id": "ac178fe9-563c-4dc8-a6a0-d2c9bffa252c",
   "metadata": {},
   "outputs": [
    {
     "name": "stdout",
     "output_type": "stream",
     "text": [
      "<class 'pandas.core.frame.DataFrame'>\n",
      "RangeIndex: 25550 entries, 0 to 25549\n",
      "Data columns (total 4 columns):\n",
      " #   Column       Non-Null Count  Dtype \n",
      "---  ------       --------------  ----- \n",
      " 0   Date         25550 non-null  object\n",
      " 1   store        25550 non-null  int64 \n",
      " 2   product      25550 non-null  int64 \n",
      " 3   number_sold  25550 non-null  int64 \n",
      "dtypes: int64(3), object(1)\n",
      "memory usage: 798.6+ KB\n"
     ]
    }
   ],
   "source": [
    "test.info()"
   ]
  },
  {
   "cell_type": "markdown",
   "id": "4945382e-b769-428b-8ece-bf0bbff1ee48",
   "metadata": {},
   "source": [
    "#### Change Datatype and Feature Engineering"
   ]
  },
  {
   "cell_type": "code",
   "execution_count": 17,
   "id": "757ef35b-5c10-4aef-9afe-6b9c7792aeb7",
   "metadata": {},
   "outputs": [
    {
     "name": "stdout",
     "output_type": "stream",
     "text": [
      "<class 'pandas.core.frame.DataFrame'>\n",
      "RangeIndex: 230090 entries, 0 to 230089\n",
      "Data columns (total 6 columns):\n",
      " #   Column       Non-Null Count   Dtype\n",
      "---  ------       --------------   -----\n",
      " 0   store        230090 non-null  int64\n",
      " 1   product      230090 non-null  int64\n",
      " 2   number_sold  230090 non-null  int64\n",
      " 3   year         230090 non-null  int32\n",
      " 4   month        230090 non-null  int32\n",
      " 5   day          230090 non-null  int32\n",
      "dtypes: int32(3), int64(3)\n",
      "memory usage: 7.9 MB\n"
     ]
    }
   ],
   "source": [
    "train[\"Date\"] = pd.to_datetime(train[\"Date\"])\n",
    "train[\"year\"] = train[\"Date\"].dt.year\n",
    "train[\"month\"] = train[\"Date\"].dt.month\n",
    "train[\"day\"] = train[\"Date\"].dt.day\n",
    "train = train.drop(columns = [\"Date\"])\n",
    "\n",
    "train.info()"
   ]
  },
  {
   "cell_type": "code",
   "execution_count": 18,
   "id": "3ea733ba-e91e-484c-9dac-e9ab0d8b4c26",
   "metadata": {},
   "outputs": [
    {
     "name": "stdout",
     "output_type": "stream",
     "text": [
      "<class 'pandas.core.frame.DataFrame'>\n",
      "RangeIndex: 25550 entries, 0 to 25549\n",
      "Data columns (total 6 columns):\n",
      " #   Column       Non-Null Count  Dtype\n",
      "---  ------       --------------  -----\n",
      " 0   store        25550 non-null  int64\n",
      " 1   product      25550 non-null  int64\n",
      " 2   number_sold  25550 non-null  int64\n",
      " 3   year         25550 non-null  int32\n",
      " 4   month        25550 non-null  int32\n",
      " 5   day          25550 non-null  int32\n",
      "dtypes: int32(3), int64(3)\n",
      "memory usage: 898.4 KB\n"
     ]
    }
   ],
   "source": [
    "test[\"Date\"] = pd.to_datetime(test[\"Date\"])\n",
    "test[\"year\"] = test[\"Date\"].dt.year\n",
    "test[\"month\"] = test[\"Date\"].dt.month\n",
    "test[\"day\"] = test[\"Date\"].dt.day\n",
    "test = test.drop(columns = [\"Date\"])\n",
    "\n",
    "test.info()"
   ]
  },
  {
   "cell_type": "code",
   "execution_count": 19,
   "id": "e74ffef7-47e2-4fc8-a273-6382a7678624",
   "metadata": {},
   "outputs": [
    {
     "data": {
      "text/html": [
       "<div>\n",
       "<style scoped>\n",
       "    .dataframe tbody tr th:only-of-type {\n",
       "        vertical-align: middle;\n",
       "    }\n",
       "\n",
       "    .dataframe tbody tr th {\n",
       "        vertical-align: top;\n",
       "    }\n",
       "\n",
       "    .dataframe thead th {\n",
       "        text-align: right;\n",
       "    }\n",
       "</style>\n",
       "<table border=\"1\" class=\"dataframe\">\n",
       "  <thead>\n",
       "    <tr style=\"text-align: right;\">\n",
       "      <th></th>\n",
       "      <th>store</th>\n",
       "      <th>product</th>\n",
       "      <th>number_sold</th>\n",
       "      <th>year</th>\n",
       "      <th>month</th>\n",
       "      <th>day</th>\n",
       "    </tr>\n",
       "  </thead>\n",
       "  <tbody>\n",
       "    <tr>\n",
       "      <th>0</th>\n",
       "      <td>0</td>\n",
       "      <td>0</td>\n",
       "      <td>845</td>\n",
       "      <td>2019</td>\n",
       "      <td>1</td>\n",
       "      <td>1</td>\n",
       "    </tr>\n",
       "    <tr>\n",
       "      <th>1</th>\n",
       "      <td>0</td>\n",
       "      <td>0</td>\n",
       "      <td>851</td>\n",
       "      <td>2019</td>\n",
       "      <td>1</td>\n",
       "      <td>2</td>\n",
       "    </tr>\n",
       "    <tr>\n",
       "      <th>2</th>\n",
       "      <td>0</td>\n",
       "      <td>0</td>\n",
       "      <td>840</td>\n",
       "      <td>2019</td>\n",
       "      <td>1</td>\n",
       "      <td>3</td>\n",
       "    </tr>\n",
       "    <tr>\n",
       "      <th>3</th>\n",
       "      <td>0</td>\n",
       "      <td>0</td>\n",
       "      <td>842</td>\n",
       "      <td>2019</td>\n",
       "      <td>1</td>\n",
       "      <td>4</td>\n",
       "    </tr>\n",
       "    <tr>\n",
       "      <th>4</th>\n",
       "      <td>0</td>\n",
       "      <td>0</td>\n",
       "      <td>845</td>\n",
       "      <td>2019</td>\n",
       "      <td>1</td>\n",
       "      <td>5</td>\n",
       "    </tr>\n",
       "  </tbody>\n",
       "</table>\n",
       "</div>"
      ],
      "text/plain": [
       "   store  product  number_sold  year  month  day\n",
       "0      0        0          845  2019      1    1\n",
       "1      0        0          851  2019      1    2\n",
       "2      0        0          840  2019      1    3\n",
       "3      0        0          842  2019      1    4\n",
       "4      0        0          845  2019      1    5"
      ]
     },
     "execution_count": 19,
     "metadata": {},
     "output_type": "execute_result"
    }
   ],
   "source": [
    "test.head()"
   ]
  },
  {
   "cell_type": "code",
   "execution_count": 20,
   "id": "252d621a-92de-4d93-9b6f-4a1ced051f19",
   "metadata": {},
   "outputs": [
    {
     "data": {
      "text/html": [
       "<div>\n",
       "<style scoped>\n",
       "    .dataframe tbody tr th:only-of-type {\n",
       "        vertical-align: middle;\n",
       "    }\n",
       "\n",
       "    .dataframe tbody tr th {\n",
       "        vertical-align: top;\n",
       "    }\n",
       "\n",
       "    .dataframe thead th {\n",
       "        text-align: right;\n",
       "    }\n",
       "</style>\n",
       "<table border=\"1\" class=\"dataframe\">\n",
       "  <thead>\n",
       "    <tr style=\"text-align: right;\">\n",
       "      <th></th>\n",
       "      <th>store</th>\n",
       "      <th>product</th>\n",
       "      <th>number_sold</th>\n",
       "      <th>year</th>\n",
       "      <th>month</th>\n",
       "      <th>day</th>\n",
       "    </tr>\n",
       "  </thead>\n",
       "  <tbody>\n",
       "    <tr>\n",
       "      <th>count</th>\n",
       "      <td>230090.000000</td>\n",
       "      <td>230090.000000</td>\n",
       "      <td>230090.000000</td>\n",
       "      <td>230090.00000</td>\n",
       "      <td>230090.000000</td>\n",
       "      <td>230090.000000</td>\n",
       "    </tr>\n",
       "    <tr>\n",
       "      <th>mean</th>\n",
       "      <td>3.000000</td>\n",
       "      <td>4.500000</td>\n",
       "      <td>780.926107</td>\n",
       "      <td>2014.00000</td>\n",
       "      <td>6.523274</td>\n",
       "      <td>15.728628</td>\n",
       "    </tr>\n",
       "    <tr>\n",
       "      <th>std</th>\n",
       "      <td>2.000004</td>\n",
       "      <td>2.872288</td>\n",
       "      <td>204.096737</td>\n",
       "      <td>2.58168</td>\n",
       "      <td>3.448616</td>\n",
       "      <td>8.799685</td>\n",
       "    </tr>\n",
       "    <tr>\n",
       "      <th>min</th>\n",
       "      <td>0.000000</td>\n",
       "      <td>0.000000</td>\n",
       "      <td>238.000000</td>\n",
       "      <td>2010.00000</td>\n",
       "      <td>1.000000</td>\n",
       "      <td>1.000000</td>\n",
       "    </tr>\n",
       "    <tr>\n",
       "      <th>25%</th>\n",
       "      <td>1.000000</td>\n",
       "      <td>2.000000</td>\n",
       "      <td>722.000000</td>\n",
       "      <td>2012.00000</td>\n",
       "      <td>4.000000</td>\n",
       "      <td>8.000000</td>\n",
       "    </tr>\n",
       "    <tr>\n",
       "      <th>50%</th>\n",
       "      <td>3.000000</td>\n",
       "      <td>4.500000</td>\n",
       "      <td>835.000000</td>\n",
       "      <td>2014.00000</td>\n",
       "      <td>7.000000</td>\n",
       "      <td>16.000000</td>\n",
       "    </tr>\n",
       "    <tr>\n",
       "      <th>75%</th>\n",
       "      <td>5.000000</td>\n",
       "      <td>7.000000</td>\n",
       "      <td>914.000000</td>\n",
       "      <td>2016.00000</td>\n",
       "      <td>10.000000</td>\n",
       "      <td>23.000000</td>\n",
       "    </tr>\n",
       "    <tr>\n",
       "      <th>max</th>\n",
       "      <td>6.000000</td>\n",
       "      <td>9.000000</td>\n",
       "      <td>1205.000000</td>\n",
       "      <td>2018.00000</td>\n",
       "      <td>12.000000</td>\n",
       "      <td>31.000000</td>\n",
       "    </tr>\n",
       "  </tbody>\n",
       "</table>\n",
       "</div>"
      ],
      "text/plain": [
       "               store        product    number_sold          year  \\\n",
       "count  230090.000000  230090.000000  230090.000000  230090.00000   \n",
       "mean        3.000000       4.500000     780.926107    2014.00000   \n",
       "std         2.000004       2.872288     204.096737       2.58168   \n",
       "min         0.000000       0.000000     238.000000    2010.00000   \n",
       "25%         1.000000       2.000000     722.000000    2012.00000   \n",
       "50%         3.000000       4.500000     835.000000    2014.00000   \n",
       "75%         5.000000       7.000000     914.000000    2016.00000   \n",
       "max         6.000000       9.000000    1205.000000    2018.00000   \n",
       "\n",
       "               month            day  \n",
       "count  230090.000000  230090.000000  \n",
       "mean        6.523274      15.728628  \n",
       "std         3.448616       8.799685  \n",
       "min         1.000000       1.000000  \n",
       "25%         4.000000       8.000000  \n",
       "50%         7.000000      16.000000  \n",
       "75%        10.000000      23.000000  \n",
       "max        12.000000      31.000000  "
      ]
     },
     "execution_count": 20,
     "metadata": {},
     "output_type": "execute_result"
    }
   ],
   "source": [
    "train.describe()"
   ]
  },
  {
   "cell_type": "markdown",
   "id": "8b4ff27b-6b3b-48df-bd91-701282b77a04",
   "metadata": {},
   "source": [
    "#### Drop Duplicates"
   ]
  },
  {
   "cell_type": "code",
   "execution_count": 21,
   "id": "85945f1d-aca3-49f0-86fe-1038baf4b293",
   "metadata": {},
   "outputs": [
    {
     "name": "stdout",
     "output_type": "stream",
     "text": [
      "Duplicates dropped.\n"
     ]
    }
   ],
   "source": [
    "train = train.drop_duplicates().reset_index(drop = True)\n",
    "test = test.drop_duplicates().reset_index(drop = True)\n",
    "print(\"Duplicates dropped.\")"
   ]
  },
  {
   "cell_type": "markdown",
   "id": "213594c3-9048-4407-ae64-463f6cf86ad1",
   "metadata": {},
   "source": [
    "#### Missing Values"
   ]
  },
  {
   "cell_type": "code",
   "execution_count": 22,
   "id": "f80eadaa-6401-49eb-8e5a-72f7487f2f6d",
   "metadata": {},
   "outputs": [
    {
     "data": {
      "text/plain": [
       "store          0\n",
       "product        0\n",
       "number_sold    0\n",
       "year           0\n",
       "month          0\n",
       "day            0\n",
       "dtype: int64"
      ]
     },
     "execution_count": 22,
     "metadata": {},
     "output_type": "execute_result"
    }
   ],
   "source": [
    "miss_val_train = train.isnull().sum()\n",
    "miss_val_train"
   ]
  },
  {
   "cell_type": "code",
   "execution_count": 23,
   "id": "baa03b9e-d1ba-4925-b728-e81628cc6502",
   "metadata": {},
   "outputs": [
    {
     "data": {
      "text/plain": [
       "store          0\n",
       "product        0\n",
       "number_sold    0\n",
       "year           0\n",
       "month          0\n",
       "day            0\n",
       "dtype: int64"
      ]
     },
     "execution_count": 23,
     "metadata": {},
     "output_type": "execute_result"
    }
   ],
   "source": [
    "miss_val_test = test.isnull().sum()\n",
    "miss_val_test"
   ]
  },
  {
   "cell_type": "markdown",
   "id": "4316ee45-cfba-4671-a594-dd56232cb41a",
   "metadata": {},
   "source": [
    "#### Define X and Ys"
   ]
  },
  {
   "cell_type": "code",
   "execution_count": 24,
   "id": "d32e6cd6-a51e-48d2-b212-55329b441a12",
   "metadata": {},
   "outputs": [],
   "source": [
    "x_train = train.drop(columns = [\"number_sold\"])\n",
    "y_train = train[\"number_sold\"]\n",
    "x_test = test.drop(columns = [\"number_sold\"])\n",
    "y_test = test[\"number_sold\"]"
   ]
  },
  {
   "cell_type": "markdown",
   "id": "dd12cba5-ba65-4bd4-bda8-d98c6c4e8552",
   "metadata": {},
   "source": [
    "#### Modelling"
   ]
  },
  {
   "cell_type": "code",
   "execution_count": 25,
   "id": "5cfea2ad-18e9-4b73-bfeb-598f0576caf3",
   "metadata": {},
   "outputs": [],
   "source": [
    "from xgboost import XGBRegressor\n",
    "from sklearn.metrics import mean_absolute_error as mae, mean_squared_error as mse, r2_score as r2, mean_absolute_percentage_error as mape\n",
    "import math"
   ]
  },
  {
   "cell_type": "code",
   "execution_count": 26,
   "id": "daf847ba-7b9b-4d25-94ef-ae23bdeff274",
   "metadata": {},
   "outputs": [
    {
     "name": "stdout",
     "output_type": "stream",
     "text": [
      "MAE : 42.259655076118364\n",
      "RMSE : 57.18129649975965\n",
      "R-Squared : 0.9271941184997559\n",
      "MAPE : 0.055638042230190796\n"
     ]
    }
   ],
   "source": [
    "model = XGBRegressor(n_estimators = 100, \n",
    "                     learning_rate = 0.1, \n",
    "                     max_depth = 3, \n",
    "                     objective = 'reg:squarederror')\n",
    "model = model.fit(x_train, y_train)\n",
    "y_pred = model.predict(x_test)\n",
    "model_mae = mae(y_test, y_pred)\n",
    "print(f\"MAE : {model_mae}\")\n",
    "model_mse = mse(y_test, y_pred)\n",
    "print(f\"RMSE : {math.sqrt(model_mse)}\")\n",
    "model_r2 = r2(y_test, y_pred)\n",
    "print(f\"R-Squared : {model_r2}\")\n",
    "model_mape = mape(y_test, y_pred)\n",
    "print(f\"MAPE : {model_mape}\")"
   ]
  }
 ],
 "metadata": {
  "kernelspec": {
   "display_name": "Python 3 (ipykernel)",
   "language": "python",
   "name": "python3"
  },
  "language_info": {
   "codemirror_mode": {
    "name": "ipython",
    "version": 3
   },
   "file_extension": ".py",
   "mimetype": "text/x-python",
   "name": "python",
   "nbconvert_exporter": "python",
   "pygments_lexer": "ipython3",
   "version": "3.10.16"
  }
 },
 "nbformat": 4,
 "nbformat_minor": 5
}
